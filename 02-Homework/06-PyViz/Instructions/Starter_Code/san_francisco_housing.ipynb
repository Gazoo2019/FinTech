version https://git-lfs.github.com/spec/v1
oid sha256:d9bef18dee4d21ecfe370a08f921626831ed647be4ac5e8d6a9517805543d565
size 28838
