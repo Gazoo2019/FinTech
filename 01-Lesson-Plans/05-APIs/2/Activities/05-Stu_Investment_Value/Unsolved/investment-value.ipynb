version https://git-lfs.github.com/spec/v1
oid sha256:6820824799328506d931fbf3fb62e9c4610d96b4af4c2e5689aed61854faf726
size 35502
