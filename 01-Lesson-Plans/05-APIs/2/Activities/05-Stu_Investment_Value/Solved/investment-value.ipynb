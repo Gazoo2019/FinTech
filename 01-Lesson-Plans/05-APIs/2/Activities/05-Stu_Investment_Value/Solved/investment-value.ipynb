version https://git-lfs.github.com/spec/v1
oid sha256:3241d2335c1a8afd0edea09d05c18c52c07fb4cd02c79fa1d06f01d81c86aef4
size 36844
