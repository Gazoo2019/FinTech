version https://git-lfs.github.com/spec/v1
oid sha256:c21c02bddc7e627b102c9d2a31ae9aebb9494d4a747f24d5aa3b1448998042a7
size 3099529
