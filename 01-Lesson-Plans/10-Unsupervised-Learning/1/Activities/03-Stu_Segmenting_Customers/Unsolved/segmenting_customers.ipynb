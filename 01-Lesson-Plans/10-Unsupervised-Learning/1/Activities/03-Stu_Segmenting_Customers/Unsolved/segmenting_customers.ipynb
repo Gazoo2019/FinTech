version https://git-lfs.github.com/spec/v1
oid sha256:de7b4c25cf005665be4b8a66d5edf97378aeabb18026c67b453c448ce43d41b0
size 3065322
