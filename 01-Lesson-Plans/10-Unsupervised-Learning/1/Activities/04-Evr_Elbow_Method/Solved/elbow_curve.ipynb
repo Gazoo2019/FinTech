version https://git-lfs.github.com/spec/v1
oid sha256:ee46786f9ea29df5691371d904fa08ffe5ae510bba78e40c2c8188fa0848d84a
size 3037650
