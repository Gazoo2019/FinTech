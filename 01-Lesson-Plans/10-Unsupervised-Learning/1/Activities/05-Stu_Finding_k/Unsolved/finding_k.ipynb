version https://git-lfs.github.com/spec/v1
oid sha256:09284ce2368247775ca5ed83138df76a62db424a896cc52639cf8c8f945ab54a
size 3657035
