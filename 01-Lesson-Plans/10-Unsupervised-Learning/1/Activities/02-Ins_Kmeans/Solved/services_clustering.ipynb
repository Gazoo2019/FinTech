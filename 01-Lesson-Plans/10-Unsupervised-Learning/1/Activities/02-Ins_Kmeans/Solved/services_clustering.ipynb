version https://git-lfs.github.com/spec/v1
oid sha256:54b77a2a79f12001ef5d1bc11f9228c89086d3284a8c4dc4f6ed36d48b70216d
size 3039295
