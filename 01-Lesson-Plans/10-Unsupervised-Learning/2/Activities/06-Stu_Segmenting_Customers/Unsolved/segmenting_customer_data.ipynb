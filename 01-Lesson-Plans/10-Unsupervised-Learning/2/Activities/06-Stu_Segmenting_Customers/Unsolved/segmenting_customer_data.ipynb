version https://git-lfs.github.com/spec/v1
oid sha256:e12efa8ffa43d341456bf6670715e970f1acd6a7576d3d350619258db8e10cd2
size 3643463
