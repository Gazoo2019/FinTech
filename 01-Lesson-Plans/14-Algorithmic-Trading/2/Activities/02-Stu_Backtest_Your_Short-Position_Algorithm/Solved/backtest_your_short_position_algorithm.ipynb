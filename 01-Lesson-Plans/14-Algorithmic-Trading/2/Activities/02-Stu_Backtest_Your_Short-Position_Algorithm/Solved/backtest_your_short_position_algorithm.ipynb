version https://git-lfs.github.com/spec/v1
oid sha256:9c862d78940970f26319ce6c2dbefb3e6f7eb4a8e54a0fb56b6f2741fe173391
size 3664620
