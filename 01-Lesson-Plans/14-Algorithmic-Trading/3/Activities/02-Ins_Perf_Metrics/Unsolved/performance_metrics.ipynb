version https://git-lfs.github.com/spec/v1
oid sha256:b47e603c23a085bbd6f80455a813bd5cf77f68541d7c3429829a33f9203c1d22
size 131131
