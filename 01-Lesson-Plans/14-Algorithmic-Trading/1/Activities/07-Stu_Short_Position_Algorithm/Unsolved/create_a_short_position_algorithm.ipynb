version https://git-lfs.github.com/spec/v1
oid sha256:8d18dcd2dcbbb6d4430ede38ef8398e5130adeb48a51cf56e8512191c2967268
size 3392282
