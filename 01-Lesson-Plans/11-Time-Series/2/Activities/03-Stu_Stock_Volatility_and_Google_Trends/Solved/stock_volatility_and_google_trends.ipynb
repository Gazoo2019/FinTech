version https://git-lfs.github.com/spec/v1
oid sha256:69016835041cb9960fd415bd8bcb5d1c7024ce384c9375631801bbdeb94980f4
size 1570825
