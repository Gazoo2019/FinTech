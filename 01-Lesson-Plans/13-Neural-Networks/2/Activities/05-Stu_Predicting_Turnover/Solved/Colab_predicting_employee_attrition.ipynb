version https://git-lfs.github.com/spec/v1
oid sha256:1204bf708f60fa2eaa342578efc3720bcfb91f707c2bfd3c06d8d744e02f1055
size 122075
