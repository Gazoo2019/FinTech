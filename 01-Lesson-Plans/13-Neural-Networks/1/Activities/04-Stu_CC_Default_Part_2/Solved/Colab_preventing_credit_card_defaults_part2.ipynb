version https://git-lfs.github.com/spec/v1
oid sha256:b39863339d8c51940f48de264fa4cd19e01f831ecef7da9c9c1376666ace2858
size 95988
