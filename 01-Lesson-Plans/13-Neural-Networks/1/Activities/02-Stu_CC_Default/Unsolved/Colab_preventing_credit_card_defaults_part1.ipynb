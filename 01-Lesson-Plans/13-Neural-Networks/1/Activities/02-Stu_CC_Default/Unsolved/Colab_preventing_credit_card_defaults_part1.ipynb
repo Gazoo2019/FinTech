version https://git-lfs.github.com/spec/v1
oid sha256:ba6b8026aa91143f22c453814f09bdf676e0ba6e92f3de6ccd6022055cd9e8ea
size 21253
