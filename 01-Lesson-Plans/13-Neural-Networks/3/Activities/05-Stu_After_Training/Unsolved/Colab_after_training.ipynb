version https://git-lfs.github.com/spec/v1
oid sha256:ac4bf7e32a47001a7a6294d4e5450326a9543abf2161343318e66753e0aafec8
size 42994
