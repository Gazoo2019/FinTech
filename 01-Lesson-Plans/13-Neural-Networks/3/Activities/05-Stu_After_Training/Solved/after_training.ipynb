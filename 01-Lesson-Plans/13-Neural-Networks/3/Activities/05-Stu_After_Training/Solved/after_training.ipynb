version https://git-lfs.github.com/spec/v1
oid sha256:0e955079d1eba770c0d6674ff101b5568c5587573efcff7948d32bd15f27c5d1
size 39356
