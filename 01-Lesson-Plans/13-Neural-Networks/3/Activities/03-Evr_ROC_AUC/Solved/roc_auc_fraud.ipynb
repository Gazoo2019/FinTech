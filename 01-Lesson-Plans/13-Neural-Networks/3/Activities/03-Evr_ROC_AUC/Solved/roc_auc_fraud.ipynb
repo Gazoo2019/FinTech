version https://git-lfs.github.com/spec/v1
oid sha256:d497dcf504876946e56f2c210778ce7009823f1141320bb112f853184d294c2f
size 121165
