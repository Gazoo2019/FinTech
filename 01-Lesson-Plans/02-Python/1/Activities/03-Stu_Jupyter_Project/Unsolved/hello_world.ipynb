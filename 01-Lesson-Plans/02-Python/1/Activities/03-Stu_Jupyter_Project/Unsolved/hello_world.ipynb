version https://git-lfs.github.com/spec/v1
oid sha256:850f978250d3e723554b4ebc54cda54c78f7f6f7de6dd3f3a297d9c059de5414
size 779
