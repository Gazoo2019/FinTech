version https://git-lfs.github.com/spec/v1
oid sha256:9c89b056c32ca81892dc65f06b6a4ecda9a451fc77713da572c8b8ae8c2507bd
size 3501960
