version https://git-lfs.github.com/spec/v1
oid sha256:0084b2d538acb709576ca5c860cf830d5cf740098d13ecf992aac836558b8efe
size 5311
