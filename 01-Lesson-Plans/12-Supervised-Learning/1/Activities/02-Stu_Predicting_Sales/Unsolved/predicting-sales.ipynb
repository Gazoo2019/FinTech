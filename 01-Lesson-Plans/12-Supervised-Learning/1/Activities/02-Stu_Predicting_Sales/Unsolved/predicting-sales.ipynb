version https://git-lfs.github.com/spec/v1
oid sha256:c7da552ee72f9375176699ba81c2488f54540bae599107c901ca94d390a50f6d
size 1534722
