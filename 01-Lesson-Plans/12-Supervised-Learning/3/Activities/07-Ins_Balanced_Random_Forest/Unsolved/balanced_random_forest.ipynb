version https://git-lfs.github.com/spec/v1
oid sha256:3654ce3bc12a002aed13506cede233d742bf8ca4694aa2b329498052b99fab7e
size 12194
