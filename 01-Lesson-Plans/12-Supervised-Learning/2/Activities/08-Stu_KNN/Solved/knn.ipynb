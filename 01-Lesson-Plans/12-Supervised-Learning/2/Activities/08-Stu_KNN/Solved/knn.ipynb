version https://git-lfs.github.com/spec/v1
oid sha256:b81e11fb7e7ebe3d712a2b9614258259f96dea670857d67799c92d18413ad74c
size 25645
