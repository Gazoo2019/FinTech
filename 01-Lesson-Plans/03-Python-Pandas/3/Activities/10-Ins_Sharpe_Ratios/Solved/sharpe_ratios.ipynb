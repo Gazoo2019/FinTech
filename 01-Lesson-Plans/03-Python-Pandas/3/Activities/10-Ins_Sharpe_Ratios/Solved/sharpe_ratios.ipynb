version https://git-lfs.github.com/spec/v1
oid sha256:5d883b415942ba6b23d6f9104b9f621fdd1f6a0d4f7e26048ddfeaf400b2e09c
size 23030
